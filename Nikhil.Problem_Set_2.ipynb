{
 "cells": [
  {
   "cell_type": "markdown",
   "metadata": {},
   "source": [
    "## Data Programming Problem Set 2\n",
    "Submitted by: Nikhil (200573255)"
   ]
  },
  {
   "cell_type": "markdown",
   "metadata": {},
   "source": [
    "# Question 1:"
   ]
  },
  {
   "cell_type": "code",
   "execution_count": null,
   "metadata": {},
   "outputs": [],
   "source": [
    "Consider the following Python module:\n",
    "a = 0\n",
    "def b():\n",
    "global a\n",
    "a = c(a)\n",
    "def c(a):\n",
    "return a + 2\n",
    "After importing the module into the interpreter, you execute:\n",
    ">>> b()\n",
    ">>> b()\n",
    ">>> b()\n",
    ">>> a\n",
    "?\n",
    "What value is displayed when the last expression (a) is evaluated? Explain your\n",
    "answer by indicating what happens in every executed statement."
   ]
  },
  {
   "cell_type": "markdown",
   "metadata": {},
   "source": [
    "# Answer 1:\n",
    "The value of a that would be displayed is 6\n",
    "Here's how the statements are executed:\n",
    "<br>\n",
    "-> The variable a is initialized with the value 0. \n",
    "<br>\n",
    "-> A function b is defined. When this function is called, it modifies the global variable a.\n",
    "<br>\n",
    "-> Then inside function b it is declared that a refers to the global variable a.\n",
    "<br>\n",
    "-> Then inside function b another function c is called which has a as an argument and it assigns the returned value back to a.\n",
    "<br>\n",
    "-> A function c is defined which takes an argument a, adds 2 to it, and then returns the result.\n",
    "<br>\n",
    "-> Function b is called 3 times, In first call it starts with value of a as 0, it adds 2 and assigns the result back to a. So,    after this call, a becomes 2.\n",
    "<br>\n",
    "-> b() called again for the second time. This time, it starts with the current value of a, which is 2, adds 2 more, and updates    a to 4.\n",
    "<br>\n",
    "-> Calling b() for the third time does the same thing. The current value of a is 4, and c(a) adds 2 to it, making a equal to 6."
   ]
  },
  {
   "cell_type": "markdown",
   "metadata": {},
   "source": [
    "# Question 2:"
   ]
  },
  {
   "cell_type": "code",
   "execution_count": null,
   "metadata": {},
   "outputs": [],
   "source": [
    "Function fileLength(), given to you, takes the name of a file as input and returns\n",
    "the length of the file:\n",
    ">>> fileLength('midterm.py')\n",
    "284\n",
    ">>> fileLength('idterm.py')\n",
    "Traceback (most recent call last):\n",
    "File \"<pyshell#34>\", line 1, in <module>\n",
    "fileLength('idterm.py')\n",
    "File \"/Users/me/midterm.py\", line 3, in fileLength\n",
    "infile = open(filename)\n",
    "FileNotFoundError: [Errno 2] No such file or directory:\n",
    "'idterm.py'\n",
    "As shown above, if the file cannot be found by the interpreter or if it cannot be read\n",
    "as a text file, an exception will be raised. Modify function fileLength() so that a\n",
    "friendly message is printed instead:\n",
    ">>> fileLength('midterm.py')\n",
    "358\n",
    ">>> fileLength('idterm.py')\n",
    "File idterm.py not found."
   ]
  },
  {
   "cell_type": "markdown",
   "metadata": {},
   "source": [
    "# Answer 2:"
   ]
  },
  {
   "cell_type": "code",
   "execution_count": 5,
   "metadata": {},
   "outputs": [
    {
     "name": "stdout",
     "output_type": "stream",
     "text": [
      "123\n",
      "File ilelength.py not found.\n"
     ]
    }
   ],
   "source": [
    "def fileLength(filename):\n",
    "    try:\n",
    "        file = open(filename)\n",
    "        contents = file.read()\n",
    "        file.close()\n",
    "        return len(contents)\n",
    "    except FileNotFoundError:\n",
    "        return \"File \" + filename + \" not found.\"\n",
    "    \n",
    "#Output\n",
    "print(fileLength('Filelength.txt'))\n",
    "print(fileLength('ilelength.py'))"
   ]
  },
  {
   "cell_type": "markdown",
   "metadata": {},
   "source": [
    "# Question 3:"
   ]
  },
  {
   "cell_type": "code",
   "execution_count": null,
   "metadata": {},
   "outputs": [],
   "source": [
    "Write a class named Marsupial that can be used as shown below:\n",
    ">>> m = Marsupial()\n",
    ">>> m.put_in_pouch('doll')\n",
    ">>> m.put_in_pouch('firetruck')\n",
    ">>> m.put_in_pouch('kitten')\n",
    ">>> m.pouch_contents()\n",
    "['doll', 'firetruck', 'kitten']\n",
    "\n",
    "Now write a class named Kangaroo as a subclass of Marsupial that inherits all the\n",
    "attributes of Marsupial and also:\n",
    "a. extends the Marsupial __init__ constructor to take, as input, the\n",
    "coordinates x and y of the Kangaroo object,\n",
    "b. supports method jump that takes number values dx and dy as input and\n",
    "moves the kangaroo by dx units along the x-axis and by dy units along the yaxis, and\n",
    "c. overloads the __str__ operator so it behaves as shown below.\n",
    ">>> k = Kangaroo(0,0)\n",
    ">>> print(k)\n",
    "I am a Kangaroo located at coordinates (0,0)\n",
    ">>> k.put_in_pouch('doll')\n",
    ">>> k.put_in_pouch('firetruck')\n",
    ">>> k.put_in_pouch('kitten')\n",
    ">>> k.pouch_contents()\n",
    "['doll', 'firetruck', 'kitten']\n",
    ">>> k.jump(1,0)\n",
    ">>> k.jump(1,0)\n",
    ">>> k.jump(1,0)\n",
    ">>> print(k)\n",
    "I am a Kangaroo located at coordinates (3,0)\n"
   ]
  },
  {
   "cell_type": "markdown",
   "metadata": {},
   "source": [
    "# Answer 3:"
   ]
  },
  {
   "cell_type": "code",
   "execution_count": 9,
   "metadata": {},
   "outputs": [
    {
     "name": "stdout",
     "output_type": "stream",
     "text": [
      "['doll', 'firetruck', 'kitten']\n",
      "I am a Kangaroo located at coordinates (0,0)\n",
      "['doll', 'firetruck', 'kitten']\n",
      "I am a Kangaroo located at coordinates (3,0)\n"
     ]
    }
   ],
   "source": [
    "#Defining the class Marsupial\n",
    "class Marsupial:\n",
    "    def __init__(self):\n",
    "        self.pouch = []\n",
    "\n",
    "    def put_in_pouch(self, item):\n",
    "        self.pouch.append(item)\n",
    "\n",
    "    def pouch_contents(self):\n",
    "        return self.pouch\n",
    "\n",
    "# Defining the Kangaroo class as a subclass of Marsupial\n",
    "class Kangaroo(Marsupial):\n",
    "    #a.) Extend the constructor of Kangaroo to take input coordinates (x, y)\n",
    "    def __init__(self, x, y):\n",
    "        Marsupial.__init__(self) # Call the constructor of the superclass Marsupial\n",
    "        self.x = x\n",
    "        self.y = y\n",
    "        \n",
    "    #b.)  Method jump that takes number values dx and dy as input\n",
    "    def jump(self, dx, dy):\n",
    "        self.x += dx\n",
    "        self.y += dy\n",
    "        \n",
    "    #c.) overloading the __str__ operator\n",
    "    def __str__(self):\n",
    "        return f\"I am a Kangaroo located at coordinates ({self.x},{self.y})\"\n",
    "    \n",
    "# Part 1.) \n",
    "m = Marsupial()\n",
    "m.put_in_pouch('doll')\n",
    "m.put_in_pouch('firetruck')\n",
    "m.put_in_pouch('kitten')\n",
    "print(m.pouch_contents())\n",
    "\n",
    "#Part 2.)\n",
    "k = Kangaroo(0, 0)\n",
    "print(k)\n",
    "k.put_in_pouch('doll')\n",
    "k.put_in_pouch('firetruck')\n",
    "k.put_in_pouch('kitten')\n",
    "print(k.pouch_contents())\n",
    "\n",
    "k.jump(1, 0)\n",
    "k.jump(1, 0)\n",
    "k.jump(1, 0)\n",
    "print(k)"
   ]
  },
  {
   "cell_type": "markdown",
   "metadata": {},
   "source": [
    "# Question 4:"
   ]
  },
  {
   "cell_type": "code",
   "execution_count": null,
   "metadata": {},
   "outputs": [],
   "source": [
    "Write function collatz() that takes a positive integer x as input and prints the\n",
    "Collatz sequence starting at x. A Collatz sequence is obtained by repeatedly applying\n",
    "this rule to the previous number x in the sequence:\n",
    "x = { 𝑥/2 𝑖𝑓 𝑥 𝑖𝑠 𝑒𝑣𝑒𝑛\n",
    "    { 3𝑥+1 𝑖𝑓𝑥 𝑖𝑠 𝑜𝑑𝑑\n",
    "Your function should stop when the sequence gets to number 1. Your\n",
    "implementation must be recursive, without any loops.\n",
    "\n",
    ">>> collatz(1)\n",
    "1\n",
    ">>> collatz(10)\n",
    "10\n",
    "5\n",
    "16\n",
    "8 \n",
    "4\n",
    "2\n",
    "1"
   ]
  },
  {
   "cell_type": "markdown",
   "metadata": {},
   "source": [
    "# Answer 4:"
   ]
  },
  {
   "cell_type": "code",
   "execution_count": 54,
   "metadata": {},
   "outputs": [
    {
     "name": "stdout",
     "output_type": "stream",
     "text": [
      "collatz(1):\n",
      "1\n",
      "\n",
      "collatz(10):\n",
      "10\n",
      "5\n",
      "16\n",
      "8\n",
      "4\n",
      "2\n",
      "1\n"
     ]
    }
   ],
   "source": [
    "def collatz(x):\n",
    "    print(x)\n",
    "    if x == 1:\n",
    "        return\n",
    "    elif x % 2 == 0:\n",
    "        collatz(x // 2)\n",
    "    else:\n",
    "        collatz(3 * x + 1)\n",
    "\n",
    "#Output\n",
    "print('collatz(1):')\n",
    "collatz(1)\n",
    "print()\n",
    "print('collatz(10):')\n",
    "collatz(10)"
   ]
  },
  {
   "cell_type": "markdown",
   "metadata": {},
   "source": [
    "# Question 5:"
   ]
  },
  {
   "cell_type": "code",
   "execution_count": null,
   "metadata": {},
   "outputs": [],
   "source": [
    "Write a recursive method binary() that takes a non-negative\n",
    "integer n and prints the binary representation of integer n.\n",
    ">>> binary(0)\n",
    "0 >\n",
    ">> binary(1)\n",
    "1\n",
    ">>> binary(3)\n",
    "11\n",
    ">>> binary(9)"
   ]
  },
  {
   "cell_type": "markdown",
   "metadata": {},
   "source": [
    "# Answer 5:"
   ]
  },
  {
   "cell_type": "code",
   "execution_count": 53,
   "metadata": {},
   "outputs": [
    {
     "name": "stdout",
     "output_type": "stream",
     "text": [
      "binary(0):\n",
      "0\n",
      "binary(1):\n",
      "1\n",
      "binary(3):\n",
      "11\n",
      "binary(9):\n",
      "1001\n"
     ]
    }
   ],
   "source": [
    "def binary(n):\n",
    "    if n > 1:\n",
    "        binary(n // 2)  # Recursively call binary() with n divided by 2\n",
    "    print(n % 2, end='')\n",
    "    \n",
    "#Output\n",
    "print('binary(0):')\n",
    "binary(0)\n",
    "print()\n",
    "print('binary(1):')\n",
    "binary(1)\n",
    "print()\n",
    "print('binary(3):')\n",
    "binary(3)\n",
    "print()\n",
    "print('binary(9):')\n",
    "binary(9)\n",
    "print()"
   ]
  },
  {
   "cell_type": "markdown",
   "metadata": {},
   "source": [
    "# Question 6:"
   ]
  },
  {
   "cell_type": "code",
   "execution_count": null,
   "metadata": {},
   "outputs": [],
   "source": [
    "Implement a class named HeadingParser that can be used to parse an HTML\n",
    "document, and retrieve and print all the headings in the document. You should\n",
    "implement your class as a subclass of HTMLParser, defined in Standard Library\n",
    "module html.parser. When fed a string containing HTML code, your class should\n",
    "print the headings, one per line and in the order in which they appear in the\n",
    "document. Each heading should be indented as follows: an h1 heading should have\n",
    "indentation 0, and h2 heading should have indentation 1, etc. Test your\n",
    "implementation using w3c.html.\n",
    ">>> infile = open('w3c.html')\n",
    ">>> content = infile.read()\n",
    ">>> infile.close()\n",
    ">>> hp = HeadingParser()\n",
    ">>> hp.feed(content)\n",
    "W3C Mission\n",
    "Principles"
   ]
  },
  {
   "cell_type": "markdown",
   "metadata": {},
   "source": [
    "# Answer 6:"
   ]
  },
  {
   "cell_type": "code",
   "execution_count": 8,
   "metadata": {},
   "outputs": [
    {
     "name": "stdout",
     "output_type": "stream",
     "text": [
      "W3C Mission\n",
      " Principles\n"
     ]
    }
   ],
   "source": [
    "from html.parser import HTMLParser\n",
    "\n",
    "class HeadingParser(HTMLParser):\n",
    "    def __init__(self):\n",
    "        HTMLParser.__init__(self)\n",
    "        self.in_heading = False\n",
    "        self.current_heading_level = 0\n",
    "\n",
    "    def handle_starttag(self, tag, attrs):\n",
    "        if tag.startswith('h') and tag[1:].isdigit():\n",
    "            self.in_heading = True\n",
    "            self.current_heading_level = int(tag[1])\n",
    "\n",
    "    def handle_data(self, data):\n",
    "        if self.in_heading:\n",
    "            indentation = self.current_heading_level - 1\n",
    "            print(' ' * indentation + data)\n",
    "\n",
    "    def handle_endtag(self, tag):\n",
    "        if tag.startswith('h') and tag[1:].isdigit():\n",
    "            self.in_heading = False\n",
    "\n",
    "#Output\n",
    "infile = open('w3c.txt')\n",
    "content = infile.read()\n",
    "infile.close()\n",
    "\n",
    "hp = HeadingParser()\n",
    "hp.feed(content)"
   ]
  },
  {
   "cell_type": "markdown",
   "metadata": {},
   "source": [
    "# Question 7:"
   ]
  },
  {
   "cell_type": "code",
   "execution_count": null,
   "metadata": {},
   "outputs": [],
   "source": [
    "Implement recursive function webdir() that takes as input: a URL (as a string) and\n",
    "non-negative integers depth and indent. Your function should visit every web\n",
    "page reachable from the starting URL web page in depth clicks or less, and print\n",
    "each web page's URL. As shown below, indentation, specified by indent, should\n",
    "be used to indicate the depth of a URL.\n",
    ">>>\n",
    "webdir('http://reed.cs.depaul.edu/lperkovic/csc242/test1.html'\n",
    ", 2, 0)\n",
    "http://reed.cs.depaul.edu/lperkovic/csc242/test1.html\n",
    "http://reed.cs.depaul.edu/lperkovic/csc242/test2.html\n",
    "http://reed.cs.depaul.edu/lperkovic/csc242/test4.html\n",
    "http://reed.cs.depaul.edu/lperkovic/csc242/test3.html\n",
    "http://reed.cs.depaul.edu/lperkovic/csc242/test4.html"
   ]
  },
  {
   "cell_type": "markdown",
   "metadata": {},
   "source": [
    "# Answer 7:"
   ]
  },
  {
   "cell_type": "code",
   "execution_count": 17,
   "metadata": {},
   "outputs": [
    {
     "name": "stdout",
     "output_type": "stream",
     "text": [
      "http://web.simmons.edu/~grovesd/comm244/notes/week3/html-test-page.html\n",
      "    http://web.simmons.edu/~grovesd/comm244\n",
      "        http://web.simmons.edu/~grovesd/comm244/\n",
      "        http://web.simmons.edu/~grovesd/comm244/week1\n",
      "        http://web.simmons.edu/~grovesd/comm244/week2\n",
      "        http://web.simmons.edu/~grovesd/comm244/week3\n",
      "        http://web.simmons.edu/~grovesd/comm244/week4\n",
      "        http://web.simmons.edu/~grovesd/comm244/week5\n",
      "        http://web.simmons.edu/~grovesd/comm244/week6\n",
      "        http://web.simmons.edu/~grovesd/comm244/week7\n",
      "        http://web.simmons.edu/~grovesd/comm244/week8\n",
      "        http://web.simmons.edu/~grovesd/comm244/week9\n",
      "        http://web.simmons.edu/~grovesd/comm244/week10\n",
      "        http://web.simmons.edu/~grovesd/comm244/week11\n",
      "        http://web.simmons.edu/~grovesd/comm244/week12\n",
      "        http://web.simmons.edu/~grovesd/comm244/week13\n",
      "        http://web.simmons.edu/~grovesd/comm244/recipebook\n",
      "        http://web.simmons.edu/~grovesd/comm244/story\n",
      "        http://web.simmons.edu/~grovesd/comm244/final\n",
      "    http://web.simmons.edu/~grovesd/comm244/week3\n",
      "        http://web.simmons.edu/~grovesd/comm244/\n",
      "        http://validator.w3.org/\n",
      "        http://validator.nu/\n",
      "        https://drive.google.com/file/d/0B6I5Ldm8Lgz-Y2RCNzRVVW1xSlE/view?usp=sharing\n",
      "        Error: Could not fetch URL - https://drive.google.com/file/d/0B6I5Ldm8Lgz-Y2RCNzRVVW1xSlE/view?usp=sharing\n",
      "        https://developer.mozilla.org/en-US/docs/Learn/CSS/Introduction_to_CSS/How_CSS_works\n",
      "        https://developer.mozilla.org/en-US/docs/Learn/CSS/Introduction_to_CSS/Syntax\n",
      "        https://developer.mozilla.org/en-US/docs/Learn/CSS/Introduction_to_CSS/Selectors\n",
      "        https://developer.mozilla.org/en-US/docs/Learn/CSS/Introduction_to_CSS/Simple_selectors\n",
      "        http://www.w3schools.com/css/css_howto.asp\n",
      "        http://www.w3schools.com/css/css_text.asp\n",
      "        http://www.w3schools.com/css/css_list.asp\n",
      "        http://www.w3schools.com/css/css_border.asp\n",
      "        http://www.w3schools.com/css/css_font.asp\n",
      "        https://drive.google.com/file/d/0B6I5Ldm8Lgz-Y2RCNzRVVW1xSlE/view?usp=sharing\n",
      "        Error: Could not fetch URL - https://drive.google.com/file/d/0B6I5Ldm8Lgz-Y2RCNzRVVW1xSlE/view?usp=sharing\n",
      "        http://web.simmons.edu/~grovesd/comm244/week1\n",
      "        http://web.simmons.edu/~grovesd/comm244/week2\n",
      "        http://web.simmons.edu/~grovesd/comm244/week3\n",
      "        http://web.simmons.edu/~grovesd/comm244/week4\n",
      "        http://web.simmons.edu/~grovesd/comm244/week5\n",
      "        http://web.simmons.edu/~grovesd/comm244/week6\n",
      "        http://web.simmons.edu/~grovesd/comm244/week7\n",
      "        http://web.simmons.edu/~grovesd/comm244/week8\n",
      "        http://web.simmons.edu/~grovesd/comm244/week9\n",
      "        http://web.simmons.edu/~grovesd/comm244/week10\n",
      "        http://web.simmons.edu/~grovesd/comm244/week11\n",
      "        http://web.simmons.edu/~grovesd/comm244/week12\n",
      "        http://web.simmons.edu/~grovesd/comm244/week13\n",
      "        http://web.simmons.edu/~grovesd/comm244/recipebook\n",
      "        http://web.simmons.edu/~grovesd/comm244/story\n",
      "        http://web.simmons.edu/~grovesd/comm244/final\n"
     ]
    }
   ],
   "source": [
    "import requests\n",
    "from html.parser import HTMLParser\n",
    "\n",
    "class urlcheck(HTMLParser):\n",
    "    def __init__(self, depth, indent):\n",
    "        HTMLParser.__init__(self)\n",
    "        self.depth = depth\n",
    "        self.indent = indent\n",
    "\n",
    "    def handle_starttag(self, tag, attrs):\n",
    "        if self.depth >= 0 and tag == 'a':\n",
    "            for attr in attrs:\n",
    "                if attr[0] == 'href' and attr[1].startswith('http'):\n",
    "                    if self.depth > 0:\n",
    "                        webdir(attr[1], self.depth - 1, self.indent + 4)\n",
    "\n",
    "def webdir(url, depth, indent):\n",
    "    if depth < 0:\n",
    "        return\n",
    "\n",
    "    try:\n",
    "        print(' ' * indent + url)\n",
    "        response = requests.get(url)\n",
    "        response.raise_for_status()\n",
    "        parser = urlcheck(depth, indent)\n",
    "        parser.feed(response.text)\n",
    "\n",
    "    except requests.exceptions.RequestException:\n",
    "        print(' ' * indent + f'Error: Could not fetch URL - {url}')\n",
    "\n",
    "webdir('http://web.simmons.edu/~grovesd/comm244/notes/week3/html-test-page.html', 2, 0)"
   ]
  },
  {
   "cell_type": "markdown",
   "metadata": {},
   "source": [
    "# Question 8:"
   ]
  },
  {
   "cell_type": "markdown",
   "metadata": {},
   "source": [
    "Question 8\n",
    "Write SQL queries on the below database table that return:\n",
    "a) All the temperature data.\n",
    "b) All the cities, but without repetition.\n",
    "c) All the records for India.\n",
    "d) All the Fall records.\n",
    "e) The city, country, and season for which the average rainfall is between 200\n",
    "and 400 millimeters.\n",
    "f) The city and country for which the average Fall temperature is above 20\n",
    "degrees, in increasing temperature order.\n",
    "g) The total annual rainfall for Cairo.\n",
    "h) The total rainfall for each season."
   ]
  },
  {
   "cell_type": "markdown",
   "metadata": {},
   "source": [
    "# Answer 8:"
   ]
  },
  {
   "cell_type": "code",
   "execution_count": 68,
   "metadata": {},
   "outputs": [
    {
     "name": "stdout",
     "output_type": "stream",
     "text": [
      "a) Result: [24.8, 28.4, 27.9, 27.6, 4.2, 8.3, 15.7, 10.4, 13.6, 20.7, 27.7, 22.2]\n",
      "b) Result: ['Mumbai', 'London', 'Cairo']\n",
      "c) Result: [('Mumbai', 'India', 'Winter', 24.8, 5.9), ('Mumbai', 'India', 'Spring', 28.4, 16.2), ('Mumbai', 'India', 'Summer', 27.9, 1549.4), ('Mumbai', 'India', 'Fall', 27.6, 346.0)]\n",
      "d) Result: [('Mumbai', 'India', 'Fall', 27.6, 346.0), ('London', 'United Kingdom', 'Fall', 10.4, 218.5), ('Cairo', 'Egypt', 'Fall', 22.2, 4.0)]\n",
      "e) Result: [('London', 'United Kingdom', 'Fall'), ('London', 'United Kingdom', 'Winter'), ('Mumbai', 'India', 'Fall')]\n",
      "f) Result: [('Cairo', 'Egypt'), ('Mumbai', 'India')]\n",
      "g) Result: [('Cairo', 27.1)]\n",
      "h) Result: [('Fall', 568.5), ('Spring', 192.29999999999998), ('Summer', 1706.5), ('Winter', 230.1)]\n"
     ]
    }
   ],
   "source": [
    "import sqlite3\n",
    "\n",
    "#Creating an in memory SQLite database and a cursor\n",
    "conn = sqlite3.connect(':memory:')\n",
    "cursor = conn.cursor()\n",
    "\n",
    "#Creating and loading data in table\n",
    "cursor.execute('''\n",
    "    CREATE TABLE weather_data (\n",
    "        city TEXT,\n",
    "        country TEXT,\n",
    "        season TEXT,\n",
    "        temperature REAL,\n",
    "        rainfall REAL\n",
    "    )\n",
    "''')\n",
    "\n",
    "data = [\n",
    "    ('Mumbai','India','Winter',24.8,5.9),\n",
    "('Mumbai','India','Spring',28.4,16.2),\n",
    "('Mumbai','India','Summer',27.9,1549.4),\n",
    "('Mumbai','India','Fall',27.6,346.0),\n",
    "('London','United Kingdom','Winter',4.2,207.7),\n",
    "('London','United Kingdom','Spring',8.3,169.6),\n",
    "('London','United Kingdom','Summer',15.7,157.0),\n",
    "('London','United Kingdom','Fall',10.4,218.5),\n",
    "('Cairo','Egypt','Winter',13.6,16.5),\n",
    "('Cairo','Egypt','Spring',20.7,6.5),\n",
    "('Cairo','Egypt','Summer',27.7,0.1),\n",
    "('Cairo','Egypt','Fall',22.2,4.0)\n",
    "]\n",
    "\n",
    "cursor.executemany('INSERT INTO weather_data VALUES (?, ?, ?, ?, ?)', data)\n",
    "\n",
    "#Queries\n",
    "queries = {\n",
    "    'a': 'SELECT temperature FROM weather_data',\n",
    "    'b': 'SELECT DISTINCT city FROM weather_data',\n",
    "    'c': 'SELECT * FROM weather_data WHERE country = \"India\"',\n",
    "    'd': 'SELECT * FROM weather_data WHERE season = \"Fall\"',\n",
    "    'e': '''\n",
    "        SELECT city, country, season\n",
    "        FROM weather_data\n",
    "        GROUP BY city, country, season\n",
    "        HAVING AVG(rainfall) BETWEEN 200 AND 400\n",
    "    ''',\n",
    "    'f': '''\n",
    "        SELECT city, country\n",
    "        FROM weather_data\n",
    "        WHERE season = \"Fall\"\n",
    "        GROUP BY city, country\n",
    "        HAVING AVG(temperature) > 20\n",
    "        ORDER BY AVG(temperature) ASC\n",
    "    ''',\n",
    "    'g': 'SELECT city, SUM(rainfall) AS total_rainfall FROM weather_data WHERE city = \"Cairo\" GROUP BY city',\n",
    "    'h': 'SELECT season, SUM(rainfall) AS total_rainfall FROM weather_data GROUP BY season'\n",
    "}\n",
    "\n",
    "for key, query in queries.items():\n",
    "    cursor.execute(query)\n",
    "    result = cursor.fetchall()\n",
    "    #Output\n",
    "    values = [row[0] if len(row) == 1 else row for row in result]\n",
    "    print(f\"{key}) Result: {values}\")\n",
    "\n",
    "conn.close()\n"
   ]
  },
  {
   "cell_type": "markdown",
   "metadata": {},
   "source": [
    "# Question 9:"
   ]
  },
  {
   "cell_type": "code",
   "execution_count": null,
   "metadata": {},
   "outputs": [],
   "source": [
    "Suppose list words is defined as follows:\n",
    ">>> words = ['The', 'quick', 'brown', 'fox', 'jumps', 'over',\n",
    "'the', 'lazy', 'dog']\n",
    "Write list comprehension expressions that use list words and generate the following\n",
    "lists:\n",
    "a) ['THE', 'QUICK', 'BROWN', 'FOX', 'JUMPS', 'OVER', 'THE',\n",
    "'LAZY', 'DOG']\n",
    "b) ['the', 'quick', 'brown', 'fox', 'jumps', 'over', 'the',\n",
    "'lazy', 'dog']\n",
    "c) [3, 5, 5, 3, 5, 4, 3, 4, 3] (the list of lengths of words in list\n",
    "words).\n",
    "d) [['THE', 'the', 3], ['QUICK', 'quick', 5], ['BROWN',\n",
    "'brown', 5], ['FOX', 'fox', 3], ['JUMPS', 'jumps', 5],\n",
    "['OVER', 'over', 4], ['THE', 'the', 3], ['LAZY', 'lazy',\n",
    "4], ['DOG', 'dog', 3]] (the list containing a list for every word of list\n",
    "words, where each list contains the word in uppercase and lowercase and the\n",
    "length of the word.)\n",
    "e) ['The', 'quick', 'brown', 'fox', 'jumps', 'over', 'the',\n",
    "'lazy', 'dog'] (the list of words in list words containing 4 or more\n",
    "characters.)\n"
   ]
  },
  {
   "cell_type": "markdown",
   "metadata": {},
   "source": [
    "# Answer 9:"
   ]
  },
  {
   "cell_type": "code",
   "execution_count": 2,
   "metadata": {},
   "outputs": [
    {
     "name": "stdout",
     "output_type": "stream",
     "text": [
      "a): ['THE', 'QUICK', 'BROWN', 'FOX', 'JUMPS', 'OVER', 'THE', 'LAZY', 'DOG']\n",
      "b): ['the', 'quick', 'brown', 'fox', 'jumps', 'over', 'the', 'lazy', 'dog']\n",
      "c): [3, 5, 5, 3, 5, 4, 3, 4, 3]\n",
      "d): [['THE', 'the', 3], ['QUICK', 'quick', 5], ['BROWN', 'brown', 5], ['FOX', 'fox', 3], ['JUMPS', 'jumps', 5], ['OVER', 'over', 4], ['THE', 'the', 3], ['LAZY', 'lazy', 4], ['DOG', 'dog', 3]]\n",
      "e): ['quick', 'brown', 'jumps', 'over', 'lazy']\n"
     ]
    }
   ],
   "source": [
    "words = ['The', 'quick', 'brown', 'fox', 'jumps', 'over', 'the', 'lazy', 'dog']\n",
    "\n",
    "#a) \n",
    "uppercase= [word.upper() for word in words]\n",
    "print(\"a):\", uppercase)\n",
    "\n",
    "#b)\n",
    "lowercase = [word.lower() for word in words]\n",
    "print(\"b):\", lowercase)\n",
    "\n",
    "#c)\n",
    "length = [len(word) for word in words]\n",
    "print(\"c):\", length)\n",
    "\n",
    "#d)\n",
    "list_d = [[word.upper(), word.lower(), len(word)] for word in words]\n",
    "print(\"d):\", list_d)\n",
    "\n",
    "#e)\n",
    "list_e = [word for word in words if len(word) >= 4]\n",
    "print(\"e):\", list_e)\n"
   ]
  }
 ],
 "metadata": {
  "kernelspec": {
   "display_name": "Python 3",
   "language": "python",
   "name": "python3"
  },
  "language_info": {
   "codemirror_mode": {
    "name": "ipython",
    "version": 3
   },
   "file_extension": ".py",
   "mimetype": "text/x-python",
   "name": "python",
   "nbconvert_exporter": "python",
   "pygments_lexer": "ipython3",
   "version": "3.7.4"
  }
 },
 "nbformat": 4,
 "nbformat_minor": 2
}
