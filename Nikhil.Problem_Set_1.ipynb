{
 "cells": [
  {
   "cell_type": "markdown",
   "metadata": {},
   "source": [
    "   # Data Programming Problem Set 1\n",
    "   Submitted by: Nikhil (200573255)"
   ]
  },
  {
   "cell_type": "markdown",
   "metadata": {},
   "source": [
    "## Question 1:  What data type is each of the following (evaluate where necessary)?\n",
    "a) 5\n",
    "\n",
    "b) 5.0\n",
    "\n",
    "c) 5 > 1\n",
    "\n",
    "d) '5'\n",
    "\n",
    "e) 5 * 2\n",
    "\n",
    "f) '5' * 2\n",
    "\n",
    "g) '5' + '2'\n",
    "\n",
    "h) 5 / 2\n",
    "\n",
    "i) 5 % 2\n",
    "\n",
    "j) {5, 2, 1}\n",
    "\n",
    "k) 5 == 3\n",
    "\n",
    "l) Pi (the number)\n",
    "\n"
   ]
  },
  {
   "cell_type": "code",
   "execution_count": null,
   "metadata": {
    "direction": "ltr"
   },
   "outputs": [],
   "source": [
    "a.) Integer \n",
    "\n",
    "b.) Float \n",
    "\n",
    "c.) Boolean\n",
    "\n",
    "d.) Character\n",
    "\n",
    "e.) Integer\n",
    "\n",
    "f.) String\n",
    "\n",
    "g.) String\n",
    "\n",
    "h.) Float\n",
    "\n",
    "i.) Integer\n",
    "\n",
    "j.) Dictionary\n",
    "\n",
    "k.) Boolean \n",
    "\n",
    "l.) Float "
   ]
  },
  {
   "cell_type": "markdown",
   "metadata": {},
   "source": [
    "## Question 2: Write (and evaluate) C# expressions that answer these questions:\n",
    "\n",
    "    a. How many letters are there in 'Supercalifragilisticexpialidocious'?\n",
    "\n",
    "    b. Does 'Supercalifragilisticexpialidocious' contain 'ice' as a substring?\n",
    "\n",
    "    c. Which of the following words is the longest: Supercalifragilisticexpialidocious, Honorificabilitudinitatibus, or Bababadalgharaghtakamminarronnkonn?\n",
    "\n",
    "    d. Which composer comes first in the dictionary: 'Berlioz', 'Borodin', 'Brian', 'Bartok', 'Bellini', 'Buxtehude', 'Bernstein'. Which one comes last?"
   ]
  },
  {
   "cell_type": "code",
   "execution_count": null,
   "metadata": {},
   "outputs": [],
   "source": [
    "a.)\n",
    "string str_q1 = \"Supercalifragilisticexpialidocious\";\n",
    "int count = str_q1.Length;\n",
    "Console.WriteLine($\"Total letters in  '{str_q1}' = {count}\");\n",
    "\n",
    "b.)\n",
    "if (str1.Contains(\"ice\"))\n",
    "{\n",
    "    Console.WriteLine($\"'{str_q1}' contains 'ice' as a substring\");\n",
    "}\n",
    "else\n",
    "{\n",
    "    Console.WriteLine($\"'{str_q1}' does not contain 'ice' as a substring\");\n",
    "}\n",
    "\n",
    "c.)\n",
    "string[] words = {\"Honorificabilitudinitatibus\",\"Supercalifragilisticexpialidocious\",\"Bababadalgharaghtakamminarronnkonn\"};\n",
    "\n",
    "        List<string> longestWords = new List<string>();\n",
    "        int maxLength = 0;\n",
    "\n",
    "        foreach (string word in words)\n",
    "        {\n",
    "            int length = word.Length;\n",
    "\n",
    "            if (length > maxLength)\n",
    "            {\n",
    "                maxLength = length;\n",
    "                longestWords.Clear();\n",
    "                longestWords.Add(word);\n",
    "            }\n",
    "            else if (length == maxLength)\n",
    "            {\n",
    "                longestWords.Add(word);\n",
    "            }\n",
    "        }\n",
    "\n",
    "        Console.WriteLine(\"The longest word(s) is/are:\");\n",
    "\n",
    "        foreach (string longestWord in longestWords)\n",
    "        {\n",
    "            Console.WriteLine(longestWord);\n",
    "        }\n",
    "\n",
    "d.)\n",
    "string[] composers = {\"Berlioz\", \"Borodin\", \"Brian\", \"Bartok\", \"Bellini\", \"Buxtehude\", \"Bernstein\"};\n",
    "Array.Sort(composers);\n",
    "Console.WriteLine(\"First composer in the dictionary is {composers[0]} and Last composer is {composers[composers.Length-1]}\");"
   ]
  },
  {
   "cell_type": "markdown",
   "metadata": {},
   "source": [
    "## Question 3: Implement function triangleArea(a,b,c) that takes as input the lengths of the 3 sides of a triangle and returns the area of the triangle. By Heron's formula, the area of a triangle with side lengths a, b, and c is s(s - a)(s -b)(s -c) , where s = (a+b+c)/2."
   ]
  },
  {
   "cell_type": "code",
   "execution_count": null,
   "metadata": {},
   "outputs": [],
   "source": [
    " static void Main()\n",
    "    {\n",
    "    Console.WriteLine(\"Enter the lengths of the three sides of the triangle:\");\n",
    "\n",
    "        double a = double.Parse(Console.ReadLine());\n",
    "        double b = double.Parse(Console.ReadLine());\n",
    "        double c = double.Parse(Console.ReadLine());\n",
    "\n",
    "        double area = TriangleArea(a, b, c);\n",
    "\n",
    "        Console.WriteLine($\"The area of the triangle with side lengths {a}, {b}, and {c} is {area}\");\n",
    "    }\n",
    "    \n",
    "  static double TriangleArea(double a, double b, double c)\n",
    "    {\n",
    "        double s = (a + b + c) / 2.0;\n",
    "\n",
    "        // Heron's formula\n",
    "        double area = Math.Sqrt(s * (s - a) * (s - b) * (s - c));\n",
    "\n",
    "        return area;\n",
    "    }\n"
   ]
  },
  {
   "cell_type": "markdown",
   "metadata": {},
   "source": [
    "## Question 4: Write a program in C# to separate odd and even integers in separate arrays. \n",
    "\n",
    "Test Data :\n",
    "\n",
    "Input the number of elements to be stored in the array :5\n",
    "\n",
    "Input 5 elements in the array :\n",
    "\n",
    "    element - 0 : 25\n",
    "    element - 1 : 47\n",
    "    element - 2 : 42\n",
    "    element - 3 : 56\n",
    "    element - 4 : 32\n",
    "    Expected Output:\n",
    "    The Even elements are: 42 56 32\n",
    "    The Odd elements are : 25 47"
   ]
  },
  {
   "cell_type": "code",
   "execution_count": null,
   "metadata": {},
   "outputs": [],
   "source": [
    "    static void Main()\n",
    "    {\n",
    "        Console.Write(\"Input the number of elements to be stored in the array : \");\n",
    "        int numberOfElements = int.Parse(Console.ReadLine());\n",
    "\n",
    "        int[] numbers = new int[numberOfElements];\n",
    "        int[] evenNumbers = new int[numberOfElements];\n",
    "        int[] oddNumbers = new int[numberOfElements];\n",
    "\n",
    "        int evenCount = 0;\n",
    "        int oddCount = 0;\n",
    "\n",
    "        Console.WriteLine(\"Please enter the numbers one by one:\");\n",
    "\n",
    "        for (int i = 0; i < numberOfElements; i++)\n",
    "        {\n",
    "            Console.Write($\"element {i}: \");\n",
    "            int number = int.Parse(Console.ReadLine());\n",
    "\n",
    "            numbers[i] = number;\n",
    "\n",
    "            if (number % 2 == 0)\n",
    "            {\n",
    "                evenNumbers[evenCount++] = number;\n",
    "            }\n",
    "            else\n",
    "            {\n",
    "                oddNumbers[oddCount++] = number;\n",
    "            }\n",
    "        }\n",
    "\n",
    "        Console.WriteLine(\"Separating odd and even numbers..\");\n",
    "        Console.WriteLine(\"Even elements are: \" + JoinNumbers(evenNumbers, evenCount));\n",
    "        Console.WriteLine(\"Odd elements are: \" + JoinNumbers(oddNumbers, oddCount));\n",
    "    }\n",
    "\n",
    "    static string JoinNumbers(int[] array, int count)\n",
    "    {\n",
    "        string[] stringArray = new string[count];\n",
    "        for (int i = 0; i < count; i++)\n",
    "        {\n",
    "            stringArray[i] = array[i].ToString();\n",
    "        }\n",
    "        return string.Join(\", \", stringArray);\n",
    "    }"
   ]
  },
  {
   "cell_type": "markdown",
   "metadata": {},
   "source": [
    "## Question 5:\n",
    "### a. Write a function inside(x,y,x1,y1,x2,y2) that returns True or False depending on whether the point (x,y) lies in the rectangle with lower left corner (x1,y1) and upper right corner (x2,y2).\n",
    "\n",
    "#### >>>inside(1,1,0,0,2,3)\n",
    "    True\n",
    "\n",
    "#### >>> inside(-1,-1,0,0,2,3)\n",
    "    False\n",
    "\n",
    "### b. Use function inside() from part a. to write an expression that tests whether the point (1,1) lies in both of the following rectangles: one with lower left corner (0.3,0.5) and upper right corner (1.1, 0.7) and the other with lower left corner (0.5,0.2) and upper right corner (1.1,2)."
   ]
  },
  {
   "cell_type": "code",
   "execution_count": null,
   "metadata": {},
   "outputs": [],
   "source": [
    "a.)\n",
    "static bool inside(double x, double y, double x1, double y1, double x2, double y2)\n",
    "{\n",
    "    return (x >= x1 && x <= x2) && (y >= y1 && y <= y2);\n",
    "}\n",
    "\n",
    "Console.WriteLine(inside(1, 1, 0, 0, 2, 3));\n",
    "Console.WriteLine(inside(-1, -1, 0, 0, 2, 3));\n",
    "\n",
    "b.)\n",
    "Console.WriteLine(\"{inside(1, 1, 0.3, 0.5, 1.1, 0.7)}\");\n",
    "Console.WriteLine(\"{inside(1, 1, 0.5, 0.2, 1.1, 2)}\");\n"
   ]
  },
  {
   "cell_type": "markdown",
   "metadata": {},
   "source": [
    "## Question 6:\n",
    "\n",
    "You can turn a word into pig-Latin using the following two rules (simplified):\n",
    "• If the word starts with a consonant, move that letter to the end and append \n",
    "'ay'. For example, 'happy' becomes 'appyhay' and 'pencil' becomes 'encilpay'.\n",
    "• If the word starts with a vowel, simply append 'way' to the end of the word. \n",
    "For example, 'enter' becomes 'enterway' and 'other' becomes 'otherway' . For \n",
    "our purposes, there are 5 vowels: a, e, i, o, u (so we count y as a consonant).\n",
    "### Write a function pig() that takes a word (i.e., a string) as input and returns its pig-Latin form. Your function should still work if the input word contains upper case characters. Your output should always be lower case however. \n",
    "#### >>> pig('happy')\n",
    "    'appyhay'\n",
    "#### >>> pig('Enter')\n",
    "    'enterway'"
   ]
  },
  {
   "cell_type": "code",
   "execution_count": 11,
   "metadata": {},
   "outputs": [
    {
     "name": "stdout",
     "output_type": "stream",
     "text": [
      "appyhay\n",
      "enterway\n"
     ]
    }
   ],
   "source": [
    "def pig(word):\n",
    "    word = word.lower()\n",
    "    vowels = 'aeiou'\n",
    "    \n",
    "    # To Check if the word starts with a vowel\n",
    "    if word[0] in vowels:\n",
    "        return word + 'way'\n",
    "    \n",
    "    # If not then move the first letter to the end and add 'ay'\n",
    "    return f\"{word[1:]}{word[0]}ay\"\n",
    "\n",
    "#assigning the characters\n",
    "w1 = 'happy'\n",
    "w2 = 'Enter'\n",
    "\n",
    "output1 = pig(w1)\n",
    "output2 = pig(w2)\n",
    "\n",
    "print(output1)\n",
    "print(output2)"
   ]
  },
  {
   "cell_type": "markdown",
   "metadata": {},
   "source": [
    "## Question 7:\n",
    "\n",
    "### File bloodtype1.txt records blood-types of patients (A, B, AB, O or OO) at a clinic. \n",
    "### Write a function bldcount() that reads the file with name name and reports (i.e., prints) how many patients there are in each bloodtype.\n",
    "#### >>> bldcount('bloodtype.txt')\n",
    "    There are 10 patients of blood type A.\n",
    "    There is one patient of blood type B.\n",
    "    There are 10 patients of blood type AB.\n",
    "    There are 12 patients of blood type O.\n",
    "    There are no patients of blood type OO"
   ]
  },
  {
   "cell_type": "code",
   "execution_count": 16,
   "metadata": {},
   "outputs": [
    {
     "name": "stdout",
     "output_type": "stream",
     "text": [
      "There are 15 patients of blood type A.\n",
      "There is one patient of blood type B.\n",
      "There are 13 patients of blood type AB.\n",
      "There are 15 patients of blood type O.\n",
      "There are no patients of blood type OO.\n"
     ]
    }
   ],
   "source": [
    "def bldcount(filename):\n",
    "    blood_type_counts = {'A': 0, 'B': 0, 'AB': 0, 'O': 0, 'OO': 0}\n",
    "\n",
    "    try:\n",
    "        with open(filename, 'r') as file:\n",
    "            for line in file:\n",
    "                blood_types = line.strip().split()\n",
    "                for blood_type in blood_types:\n",
    "                    blood_type_counts[blood_type] += 1\n",
    "\n",
    "        for blood_type, count in blood_type_counts.items():\n",
    "            if count == 1:\n",
    "                patient_count = \"one\"\n",
    "            elif count > 1:\n",
    "                patient_count = str(count)\n",
    "            else:\n",
    "                patient_count = \"no\"\n",
    "\n",
    "            print(f'There {\"is\" if patient_count == \"one\" else \"are\"} {patient_count} patient{\"\" if patient_count == \"one\" else \"s\"} of blood type {blood_type}.')\n",
    "\n",
    "    except FileNotFoundError:\n",
    "        print(f\"File '{filename}' not found.\")\n",
    "\n",
    "# Example usage:\n",
    "bldcount('bloodtype1.txt')"
   ]
  },
  {
   "cell_type": "markdown",
   "metadata": {},
   "source": [
    "## Question 8:\n",
    "### Write a function curconv() that takes as input:\n",
    "#### 1. a currency represented using a string (e.g., 'JPY' for the Japanese Yen or \n",
    "    'EUR' for the Euro)\n",
    "#### 2. an amount\n",
    "### and then converts and returns the amount in US dollars.\n",
    "#### >>> curconv('EUR', 100)\n",
    "    122.96544\n",
    "#### >>> curconv('JPY', 100)\n",
    "    1.241401\n",
    "    \n",
    "    The currency rates you will need are stored in file currencies.txt:\n",
    "    AUD 1.0345157 Australian Dollar\n",
    "    CHF 1.0237414 Swiss Franc\n",
    "    CNY 0.1550176 Chinese Yua\n",
    "    DKK 0.1651442 Danish Krone\n",
    "    EUR 1.2296544 Euro\n",
    "    GBP 1.5550989 British Pound\n",
    "    HKD 0.1270207 Hong Kong Dollar\n",
    "    INR 0.0177643 Indian Rupee\n",
    "    JPY 0.01241401 Japanese Yen\n",
    "    MXN 0.0751848 Mexican Peso\n",
    "    MYR 0.3145411 Malaysian Ringgit\n",
    "    NOK 0.1677063 Norwegian Krone\n",
    "    NZD 0.8003591 New Zealand Dollar\n",
    "    PHP 0.0233234 Philippine Peso\n",
    "    SEK 0.148269 Swedish Krona\n",
    "    SGD 0.788871 Singapore Dollar\n",
    "    THB 0.0313789 Thai Baht\n"
   ]
  },
  {
   "cell_type": "code",
   "execution_count": 14,
   "metadata": {},
   "outputs": [
    {
     "name": "stdout",
     "output_type": "stream",
     "text": [
      "Available currencies:\n",
      "AUD (Australian Dollar)\n",
      "CHF (Swiss Franc)\n",
      "CNY (Chinese Yuan)\n",
      "DKK (Danish Krone)\n",
      "EUR (Euro)\n",
      "GBP (British Pound)\n",
      "HKD (Hong Kong Dollar)\n",
      "INR (Indian Rupee)\n",
      "JPY (Japanese Yen)\n",
      "MXN (Mexican Peso)\n",
      "MYR (Malaysian Ringgit)\n",
      "NOK (Norwegian Krone)\n",
      "NZD (New Zealand Dollar)\n",
      "PHP (Philippine Peso)\n",
      "SEK (Swedish Krona)\n",
      "SGD (Singapore Dollar)\n",
      "THB (Thai Baht)\n",
      "Enter currency code and amount: EUR 100\n",
      "100.0 EUR (Euro) is equal to 122.965440 USD\n"
     ]
    }
   ],
   "source": [
    "def curconv(input_string):\n",
    "    input_parts = input_string.strip().split()\n",
    "    if len(input_parts) != 2:\n",
    "        print(\"Invalid input format. Please provide both currency code and amount.\")\n",
    "        return\n",
    "\n",
    "    currency_code = input_parts[0].upper()\n",
    "    amount = float(input_parts[1])\n",
    "\n",
    "    try:\n",
    "        with open('currencies.txt', 'r') as file:\n",
    "            currency_data = {}  # Store currency data for display\n",
    "            for line in file:\n",
    "                parts = line.strip().split()\n",
    "                code = parts[0]\n",
    "                rate = float(parts[1])\n",
    "                name = parts[2]\n",
    "                currency_data[code] = (rate, name)\n",
    "\n",
    "                if code == currency_code:\n",
    "                    conversion_rate, currency_name = currency_data[code]\n",
    "                    converted_amount = amount * conversion_rate\n",
    "                    print(f\"{amount} {code} ({currency_name}) is equal to {converted_amount:.6f} USD\")\n",
    "                    return\n",
    "\n",
    "    \n",
    "        raise ValueError(f\"Currency '{currency_code}' not found in currencies.txt\")\n",
    "\n",
    "    except FileNotFoundError:\n",
    "        print(\"Currency data file 'currencies.txt' not found.\")\n",
    "    except ValueError as e:\n",
    "        print(e)\n",
    "\n",
    "def display_currency_codes():\n",
    "    with open('currencies.txt', 'r') as file:\n",
    "        print(\"Available currencies:\")\n",
    "        for line in file:\n",
    "            parts = line.strip().split()\n",
    "            code = parts[0]\n",
    "            name = ' '.join(parts[2:])\n",
    "            print(f\"{code} ({name})\")\n",
    "\n",
    "display_currency_codes()\n",
    "input_string = input(\"Enter currency code and amount: \")\n",
    "curconv(input_string)\n"
   ]
  },
  {
   "cell_type": "markdown",
   "metadata": {},
   "source": [
    "## Question 9:\n",
    "\n",
    "### Each of the following will cause an exception (an error). Identify what type of exception each will cause.\n",
    "\n",
    "#### a) Trying to add incompatible variables, as in adding 6 + ‘a’\n",
    "\n",
    "#### b) Referring to the 12th item of a list that has only 10 items\n",
    "\n",
    "#### c) Using a value that is out of range for a function’s input, such as calling math.sqrt(-1.0)\n",
    "\n",
    "#### d) Using an undeclared variable, such as print(x) when x has not been defined\n",
    "\n",
    "#### e) Trying to open a file that does not exist, such as mistyping the file name or looking in the wrong directory"
   ]
  },
  {
   "cell_type": "code",
   "execution_count": null,
   "metadata": {},
   "outputs": [],
   "source": [
    "# a.)\n",
    "try:\n",
    "    result = 6 + 'a'\n",
    "except Exception as e:\n",
    "    print(f\"Exception Type: {type(e).__name__}\")"
   ]
  },
  {
   "cell_type": "code",
   "execution_count": 26,
   "metadata": {},
   "outputs": [
    {
     "name": "stdout",
     "output_type": "stream",
     "text": [
      "Exception Type: IndexError\n"
     ]
    }
   ],
   "source": [
    "# b.)\n",
    "list = [1, 2, 3, 4, 5, 6, 7, 8, 9, 10]\n",
    "\n",
    "try:\n",
    "    item = list[12]\n",
    "except Exception as e:\n",
    "    print(f\"Exception Type: {type(e).__name__}\")"
   ]
  },
  {
   "cell_type": "code",
   "execution_count": 27,
   "metadata": {},
   "outputs": [
    {
     "name": "stdout",
     "output_type": "stream",
     "text": [
      "Exception Type: ValueError\n"
     ]
    }
   ],
   "source": [
    "# c.)\n",
    "import math\n",
    "try:\n",
    "    result = math.sqrt(-1.0)\n",
    "except Exception as e:\n",
    "    print(f\"Exception Type: {type(e).__name__}\")"
   ]
  },
  {
   "cell_type": "code",
   "execution_count": 28,
   "metadata": {},
   "outputs": [
    {
     "name": "stdout",
     "output_type": "stream",
     "text": [
      "Exception Type: NameError\n"
     ]
    }
   ],
   "source": [
    "# d.)\n",
    "try:\n",
    "    print(x)\n",
    "except Exception as e:\n",
    "    print(f\"Exception Type: {type(e).__name__}\")"
   ]
  },
  {
   "cell_type": "code",
   "execution_count": 29,
   "metadata": {},
   "outputs": [
    {
     "name": "stdout",
     "output_type": "stream",
     "text": [
      "Exception Type: FileNotFoundError\n"
     ]
    }
   ],
   "source": [
    "# e.)\n",
    "try:\n",
    "    with open('fil1.txt', 'r') as file:\n",
    "        content = file.read()\n",
    "except Exception as e:\n",
    "    print(f\"Exception Type: {type(e).__name__}\")"
   ]
  },
  {
   "cell_type": "markdown",
   "metadata": {},
   "source": [
    "## Question 10:\n",
    "\n",
    "### Encryption is the process of hiding the meaning of a text by substituting letters in the message with other letters, according to some system. If the process is successful, no one but the intended recipient can understand the encrypted message. Cryptanalysis refers to attempts to undo the encryption, even if some details of the encryption are unknown (for example, if an encrypted message has been intercepted). The first step of cryptanalysis is often to build up a table of letter frequencies in the encrypted text. Assume that the string letters is already defined as 'abcdefghijklmnopqrstuvwxyz'. Write a function called frequencies() that takes a string as its only parameter, and returns a list of integers, showing the number of times each character appears in the text. Your function may ignore any characters that are not in letters. \n",
    "#### >>> frequencies('The quick red fox got bored and went home.')\n",
    "    [1, 1, 1, 3, 5, 1, 1, 2, 1, 0, 1, 0, 1, 2, 4, 0, 1, 2, 0, 2, 1, 0, 1, 1, 0, 0]\n",
    "#### >>> frequencies('apple')"
   ]
  },
  {
   "cell_type": "code",
   "execution_count": 31,
   "metadata": {},
   "outputs": [
    {
     "name": "stdout",
     "output_type": "stream",
     "text": [
      "[1, 1, 1, 3, 5, 1, 1, 2, 1, 0, 1, 0, 1, 2, 4, 0, 1, 2, 0, 3, 1, 0, 1, 1, 0, 0]\n",
      "[1, 0, 0, 0, 1, 0, 0, 0, 0, 0, 0, 1, 0, 0, 0, 2, 0, 0, 0, 0, 0, 0, 0, 0, 0, 0]\n"
     ]
    }
   ],
   "source": [
    "def frequencies(text):\n",
    "    char_frequencies = {}\n",
    "    text = text.lower()\n",
    "\n",
    "    for char in text:\n",
    "        if char.isalpha():\n",
    "            char_frequencies[char] = char_frequencies.get(char, 0) + 1\n",
    "    letter_frequencies = [char_frequencies.get(letter, 0) for letter in 'abcdefghijklmnopqrstuvwxyz']\n",
    "\n",
    "    return letter_frequencies\n",
    "\n",
    "result1 = frequencies('The quick red fox got bored and went home.')\n",
    "result2 = frequencies('apple')\n",
    "\n",
    "print(result1)\n",
    "print(result2)"
   ]
  }
 ],
 "metadata": {
  "direction": "ltr",
  "kernelspec": {
   "display_name": "Python 3",
   "language": "python",
   "name": "python3"
  },
  "language_info": {
   "codemirror_mode": {
    "name": "ipython",
    "version": 3
   },
   "file_extension": ".py",
   "mimetype": "text/x-python",
   "name": "python",
   "nbconvert_exporter": "python",
   "pygments_lexer": "ipython3",
   "version": "3.7.4"
  }
 },
 "nbformat": 4,
 "nbformat_minor": 5
}
